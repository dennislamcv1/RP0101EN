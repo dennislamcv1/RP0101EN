{
 "cells": [
  {
   "cell_type": "code",
   "execution_count": 1,
   "metadata": {},
   "outputs": [
    {
     "name": "stdout",
     "output_type": "stream",
     "text": [
      "[1] 1\n",
      "[1] 2\n",
      "[1] 3\n"
     ]
    }
   ],
   "source": [
    "for(num in c(1,2,3)) {print(num)}"
   ]
  },
  {
   "cell_type": "code",
   "execution_count": 2,
   "metadata": {},
   "outputs": [
    {
     "data": {
      "text/html": [
       "<ol class=list-inline>\n",
       "\t<li>1</li>\n",
       "\t<li>2</li>\n",
       "\t<li>3</li>\n",
       "</ol>\n"
      ],
      "text/latex": [
       "\\begin{enumerate*}\n",
       "\\item 1\n",
       "\\item 2\n",
       "\\item 3\n",
       "\\end{enumerate*}\n"
      ],
      "text/markdown": [
       "1. 1\n",
       "2. 2\n",
       "3. 3\n",
       "\n",
       "\n"
      ],
      "text/plain": [
       "[1] 1 2 3"
      ]
     },
     "metadata": {},
     "output_type": "display_data"
    }
   ],
   "source": [
    "c(1,2,3)"
   ]
  },
  {
   "cell_type": "code",
   "execution_count": 3,
   "metadata": {},
   "outputs": [
    {
     "data": {
      "text/html": [
       "<ol class=list-inline>\n",
       "\t<li>1</li>\n",
       "\t<li>2</li>\n",
       "\t<li>3</li>\n",
       "</ol>\n"
      ],
      "text/latex": [
       "\\begin{enumerate*}\n",
       "\\item 1\n",
       "\\item 2\n",
       "\\item 3\n",
       "\\end{enumerate*}\n"
      ],
      "text/markdown": [
       "1. 1\n",
       "2. 2\n",
       "3. 3\n",
       "\n",
       "\n"
      ],
      "text/plain": [
       "[1] 1 2 3"
      ]
     },
     "metadata": {},
     "output_type": "display_data"
    }
   ],
   "source": [
    "c(1:3)"
   ]
  },
  {
   "cell_type": "code",
   "execution_count": 4,
   "metadata": {},
   "outputs": [
    {
     "data": {
      "text/html": [
       "<ol class=list-inline>\n",
       "\t<li>1</li>\n",
       "\t<li>2</li>\n",
       "\t<li>3</li>\n",
       "</ol>\n"
      ],
      "text/latex": [
       "\\begin{enumerate*}\n",
       "\\item 1\n",
       "\\item 2\n",
       "\\item 3\n",
       "\\end{enumerate*}\n"
      ],
      "text/markdown": [
       "1. 1\n",
       "2. 2\n",
       "3. 3\n",
       "\n",
       "\n"
      ],
      "text/plain": [
       "[1] 1 2 3"
      ]
     },
     "metadata": {},
     "output_type": "display_data"
    }
   ],
   "source": [
    " c(0,1,2,3,4,5)[2:4]"
   ]
  },
  {
   "cell_type": "code",
   "execution_count": 5,
   "metadata": {},
   "outputs": [
    {
     "data": {
      "text/html": [
       "<ol class=list-inline>\n",
       "\t<li>'milkshake'</li>\n",
       "\t<li>'milky'</li>\n",
       "\t<li>'milk1'</li>\n",
       "</ol>\n"
      ],
      "text/latex": [
       "\\begin{enumerate*}\n",
       "\\item 'milkshake'\n",
       "\\item 'milky'\n",
       "\\item 'milk1'\n",
       "\\end{enumerate*}\n"
      ],
      "text/markdown": [
       "1. 'milkshake'\n",
       "2. 'milky'\n",
       "3. 'milk1'\n",
       "\n",
       "\n"
      ],
      "text/plain": [
       "[1] \"milkshake\" \"milky\"     \"milk1\"    "
      ]
     },
     "metadata": {},
     "output_type": "display_data"
    }
   ],
   "source": [
    "grep(\"milk.+\", c(\"cow's milk\", \"milkshake\", \"milky\", \"cat\", \"milk1\", \"milk\"), value = T)"
   ]
  },
  {
   "cell_type": "code",
   "execution_count": 8,
   "metadata": {},
   "outputs": [
    {
     "data": {
      "text/html": [
       "<ol class=list-inline>\n",
       "\t<li>'tea'</li>\n",
       "\t<li>'coffee'</li>\n",
       "\t<li>'soft drink'</li>\n",
       "\t<li>'tea'</li>\n",
       "\t<li>'hot chocolate'</li>\n",
       "\t<li>'hot chocolate'</li>\n",
       "\t<li>'coffee'</li>\n",
       "</ol>\n"
      ],
      "text/latex": [
       "\\begin{enumerate*}\n",
       "\\item 'tea'\n",
       "\\item 'coffee'\n",
       "\\item 'soft drink'\n",
       "\\item 'tea'\n",
       "\\item 'hot chocolate'\n",
       "\\item 'hot chocolate'\n",
       "\\item 'coffee'\n",
       "\\end{enumerate*}\n"
      ],
      "text/markdown": [
       "1. 'tea'\n",
       "2. 'coffee'\n",
       "3. 'soft drink'\n",
       "4. 'tea'\n",
       "5. 'hot chocolate'\n",
       "6. 'hot chocolate'\n",
       "7. 'coffee'\n",
       "\n",
       "\n"
      ],
      "text/plain": [
       "[1] \"tea\"           \"coffee\"        \"soft drink\"    \"tea\"          \n",
       "[5] \"hot chocolate\" \"hot chocolate\" \"coffee\"       "
      ]
     },
     "metadata": {},
     "output_type": "display_data"
    }
   ],
   "source": [
    "c(\"tea\", \"coffee\", \"soft drink\", \"tea\", \"hot chocolate\", \"hot chocolate\", \"coffee\")"
   ]
  },
  {
   "cell_type": "code",
   "execution_count": 9,
   "metadata": {},
   "outputs": [
    {
     "data": {
      "text/html": [
       "<ol class=list-inline>\n",
       "\t<li>tea</li>\n",
       "\t<li>coffee</li>\n",
       "\t<li>soft drink</li>\n",
       "\t<li>tea</li>\n",
       "\t<li>hot chocolate</li>\n",
       "\t<li>hot chocolate</li>\n",
       "\t<li>coffee</li>\n",
       "</ol>\n",
       "\n",
       "<details>\n",
       "\t<summary style=display:list-item;cursor:pointer>\n",
       "\t\t<strong>Levels</strong>:\n",
       "\t</summary>\n",
       "\t<ol class=list-inline>\n",
       "\t\t<li>'coffee'</li>\n",
       "\t\t<li>'hot chocolate'</li>\n",
       "\t\t<li>'soft drink'</li>\n",
       "\t\t<li>'tea'</li>\n",
       "\t</ol>\n",
       "</details>"
      ],
      "text/latex": [
       "\\begin{enumerate*}\n",
       "\\item tea\n",
       "\\item coffee\n",
       "\\item soft drink\n",
       "\\item tea\n",
       "\\item hot chocolate\n",
       "\\item hot chocolate\n",
       "\\item coffee\n",
       "\\end{enumerate*}\n",
       "\n",
       "\\emph{Levels}: \\begin{enumerate*}\n",
       "\\item 'coffee'\n",
       "\\item 'hot chocolate'\n",
       "\\item 'soft drink'\n",
       "\\item 'tea'\n",
       "\\end{enumerate*}\n"
      ],
      "text/markdown": [
       "1. tea\n",
       "2. coffee\n",
       "3. soft drink\n",
       "4. tea\n",
       "5. hot chocolate\n",
       "6. hot chocolate\n",
       "7. coffee\n",
       "\n",
       "\n",
       "\n",
       "**Levels**: 1. 'coffee'\n",
       "2. 'hot chocolate'\n",
       "3. 'soft drink'\n",
       "4. 'tea'\n",
       "\n",
       "\n"
      ],
      "text/plain": [
       "[1] tea           coffee        soft drink    tea           hot chocolate\n",
       "[6] hot chocolate coffee       \n",
       "Levels: coffee hot chocolate soft drink tea"
      ]
     },
     "metadata": {},
     "output_type": "display_data"
    }
   ],
   "source": [
    "factor(c(\"tea\", \"coffee\", \"soft drink\", \"tea\", \"hot chocolate\", \"hot chocolate\", \"coffee\"))"
   ]
  },
  {
   "cell_type": "code",
   "execution_count": 10,
   "metadata": {},
   "outputs": [
    {
     "data": {
      "text/html": [
       "102"
      ],
      "text/latex": [
       "102"
      ],
      "text/markdown": [
       "102"
      ],
      "text/plain": [
       "[1] 102"
      ]
     },
     "metadata": {},
     "output_type": "display_data"
    }
   ],
   "source": [
    "myfunc <- function(x, y = 2){\n",
    "x = x + 10\n",
    "y = y + 100\n",
    "return(y)\n",
    "}\n",
    "myfunc(3)"
   ]
  },
  {
   "cell_type": "code",
   "execution_count": null,
   "metadata": {},
   "outputs": [],
   "source": []
  }
 ],
 "metadata": {
  "kernelspec": {
   "display_name": "R",
   "language": "R",
   "name": "ir"
  },
  "language_info": {
   "codemirror_mode": "r",
   "file_extension": ".r",
   "mimetype": "text/x-r-source",
   "name": "R",
   "pygments_lexer": "r",
   "version": "3.5.1"
  }
 },
 "nbformat": 4,
 "nbformat_minor": 2
}
